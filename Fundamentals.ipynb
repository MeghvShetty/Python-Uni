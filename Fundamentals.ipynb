{
 "cells": [
  {
   "cell_type": "markdown",
   "id": "e3ccce67",
   "metadata": {},
   "source": [
    "### String lenght example"
   ]
  },
  {
   "cell_type": "code",
   "execution_count": 6,
   "id": "7f347b72",
   "metadata": {},
   "outputs": [
    {
     "name": "stdout",
     "output_type": "stream",
     "text": [
      "7\n"
     ]
    }
   ],
   "source": [
    "a = len (\"example\")\n",
    "print(a)"
   ]
  },
  {
   "cell_type": "markdown",
   "id": "fb4ec09b",
   "metadata": {},
   "source": [
    "### String as an array & slicing\n",
    "\n",
    "a = H E Y\n",
    "    0 1 2 "
   ]
  },
  {
   "cell_type": "code",
   "execution_count": 11,
   "id": "1bf7adc8",
   "metadata": {},
   "outputs": [
    {
     "name": "stdout",
     "output_type": "stream",
     "text": [
      "Y\n",
      "HE\n",
      "HEY\n"
     ]
    }
   ],
   "source": [
    "a = (\"HEY\")\n",
    "print(a[2])\n",
    "print(a[0:2])\n",
    "print(a[0:3])"
   ]
  },
  {
   "cell_type": "markdown",
   "id": "3a70c89e",
   "metadata": {},
   "source": [
    "### String formatting: format()"
   ]
  },
  {
   "cell_type": "code",
   "execution_count": 13,
   "id": "eba73459",
   "metadata": {},
   "outputs": [
    {
     "name": "stdout",
     "output_type": "stream",
     "text": [
      "The first name Alex is and last name is Dex\n"
     ]
    }
   ],
   "source": [
    "name = \"Alex\"\n",
    "last_name = \"Dex\"\n",
    "profile = \"The first name {} is and last name is {}\"\n",
    "print(profile.format(name,last_name))"
   ]
  },
  {
   "cell_type": "markdown",
   "id": "e8297d6b",
   "metadata": {},
   "source": [
    "### Strings are Immutable Unlike Lists"
   ]
  },
  {
   "cell_type": "code",
   "execution_count": 19,
   "id": "49a8b8ea",
   "metadata": {},
   "outputs": [
    {
     "name": "stdout",
     "output_type": "stream",
     "text": [
      "A\n",
      "B\n"
     ]
    }
   ],
   "source": [
    "name = \"Alex\"\n",
    "print(name[0])\n",
    "#name[0] = \"B\"\n",
    "name = \"Blex\"\n",
    "print(name[0])"
   ]
  },
  {
   "cell_type": "markdown",
   "id": "83205931",
   "metadata": {},
   "source": [
    "Numeric Type – Conversions"
   ]
  },
  {
   "cell_type": "code",
   "execution_count": 30,
   "id": "61dbdcb9",
   "metadata": {},
   "outputs": [
    {
     "name": "stdout",
     "output_type": "stream",
     "text": [
      "25.5\n",
      "<class 'float'>\n",
      "25\n",
      "<class 'int'>\n",
      "25\n",
      "<class 'int'>\n",
      "25.0\n",
      "<class 'float'>\n",
      "25\n",
      "<class 'int'>\n",
      "25\n",
      "<class 'str'>\n"
     ]
    }
   ],
   "source": [
    "a = 25.5\n",
    "print(a)\n",
    "print(type(a))\n",
    "a = int(a)\n",
    "print(a)\n",
    "print(type(a))\n",
    "\n",
    "b = 25 \n",
    "print(b)\n",
    "print(type(b))\n",
    "b = float(b)\n",
    "print(b)\n",
    "print(type(b))\n",
    "\n",
    "c = 25\n",
    "print(c)\n",
    "\n",
    "print(type(c))\n",
    "c = str(c)\n",
    "\n",
    "print(c)\n",
    "print(type(c))"
   ]
  },
  {
   "cell_type": "markdown",
   "id": "8f78a727",
   "metadata": {},
   "source": [
    "Numeric Type – Random Numbers"
   ]
  },
  {
   "cell_type": "code",
   "execution_count": 37,
   "id": "b0c4ccfe",
   "metadata": {},
   "outputs": [
    {
     "name": "stdout",
     "output_type": "stream",
     "text": [
      "79\n"
     ]
    }
   ],
   "source": [
    "import random\n",
    "\n",
    "print(random.randrange(0,100))"
   ]
  },
  {
   "cell_type": "markdown",
   "id": "f00ac867",
   "metadata": {},
   "source": [
    "Sequence Type – Lists vs Tuples"
   ]
  },
  {
   "cell_type": "code",
   "execution_count": null,
   "id": "d818dc9f",
   "metadata": {},
   "outputs": [],
   "source": [
    "my_list = "
   ]
  }
 ],
 "metadata": {
  "kernelspec": {
   "display_name": "Python 3",
   "language": "python",
   "name": "python3"
  },
  "language_info": {
   "codemirror_mode": {
    "name": "ipython",
    "version": 3
   },
   "file_extension": ".py",
   "mimetype": "text/x-python",
   "name": "python",
   "nbconvert_exporter": "python",
   "pygments_lexer": "ipython3",
   "version": "3.12.5"
  }
 },
 "nbformat": 4,
 "nbformat_minor": 5
}
